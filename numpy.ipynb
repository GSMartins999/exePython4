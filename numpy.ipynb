{
  "cells": [
    {
      "cell_type": "markdown",
      "metadata": {
        "id": "5MqHcV1XcSpT"
      },
      "source": [
        "**Exercício 1: Estatísticas Descritivas**\n",
        "\n",
        "Crie um array de 50 números inteiros aleatórios entre 1 e 100. Calcule e exiba a média, mediana, desvio padrão, valor máximo e valor mínimo."
      ]
    },
    {
      "cell_type": "code",
      "execution_count": null,
      "metadata": {
        "colab": {
          "base_uri": "https://localhost:8080/"
        },
        "id": "_dAbsR00caGE",
        "outputId": "5049b1ca-129f-44fb-df45-3e75f283ed1a"
      },
      "outputs": [
        {
          "name": "stdout",
          "output_type": "stream",
          "text": [
            "[23 42 90 33 27 28 17  1 50 97 86 78  9 88 30 32 91 15 68 83 38 68 39 14\n",
            " 89 77 41 85  2 99 24 71 84 77 89 52 22 47 23 98 62 61 50 23 56 70 96 62\n",
            " 81  4]\n",
            "Média: 53.84\n",
            "Média: 54.0\n",
            "Média: 29.72228793346838\n",
            "Média: 99\n",
            "Média: 1\n"
          ]
        }
      ],
      "source": [
        "import numpy as np\n",
        "\n",
        "array = np.random.randint(1, 101, 50)\n",
        "print(array)\n",
        "\n",
        "print(f\"Média: {np.mean(array)}\")\n",
        "print(f\"Média: {np.median(array)}\")\n",
        "print(f\"Média: {np.std(array)}\")\n",
        "print(f\"Média: {np.max(array)}\")\n",
        "print(f\"Média: {np.min(array)}\")"
      ]
    },
    {
      "cell_type": "markdown",
      "metadata": {
        "id": "JeJPW98VcbG9"
      },
      "source": [
        "**Exercício 2: Operações com Matrizes**\n",
        "\n",
        "Crie duas matrizes 3x3 de números inteiros aleatórios entre 1 e 10. Realize as operações de adição, subtração, multiplicação e divisão elemento por elemento entre as duas matrizes."
      ]
    },
    {
      "cell_type": "code",
      "execution_count": null,
      "metadata": {
        "colab": {
          "base_uri": "https://localhost:8080/"
        },
        "id": "02tMKXtTcqRM",
        "outputId": "8b8983f5-3d16-4b34-a38a-515b83162b2a"
      },
      "outputs": [
        {
          "name": "stdout",
          "output_type": "stream",
          "text": [
            "[[ 9 10  5]\n",
            " [ 3  5  4]\n",
            " [ 7  4  3]]\n",
            "[[ 7  3  3]\n",
            " [10  1 10]\n",
            " [10  9  7]]\n",
            "Adição: \n",
            "[[16 13  8]\n",
            " [13  6 14]\n",
            " [17 13 10]]\n",
            "Subtração: \n",
            "[[ 2  7  2]\n",
            " [-7  4 -6]\n",
            " [-3 -5 -4]]\n",
            "Multiplicação:\n",
            "[[63 30 15]\n",
            " [30  5 40]\n",
            " [70 36 21]]\n",
            "Divisão: \n",
            "[[1.28571429 3.33333333 1.66666667]\n",
            " [0.3        5.         0.4       ]\n",
            " [0.7        0.44444444 0.42857143]]\n"
          ]
        }
      ],
      "source": [
        "import numpy as np\n",
        "\n",
        "a = np.random.randint(1, 11, (3, 3))\n",
        "b = np.random.randint(1, 11, (3, 3))\n",
        "print(a)\n",
        "print(b)\n",
        "\n",
        "print(\"Adição: \")\n",
        "print(a + b)\n",
        "\n",
        "print (\"Subtração: \")\n",
        "print(a-b)\n",
        "\n",
        "print(\"Multiplicação:\")\n",
        "print(np.multiply(a, b))\n",
        "\n",
        "print(\"Divisão: \")\n",
        "print(a/b)\n",
        "\n"
      ]
    },
    {
      "cell_type": "markdown",
      "metadata": {
        "id": "uDBACVC8cvek"
      },
      "source": [
        "**Exercício 3: Operações de Agregação**\n",
        "\n",
        "Crie uma matriz 4x4 de números inteiros aleatórios entre 1 e 20. Calcule e exiba a soma dos elementos para cada linha e para cada coluna."
      ]
    },
    {
      "cell_type": "code",
      "execution_count": null,
      "metadata": {
        "colab": {
          "base_uri": "https://localhost:8080/"
        },
        "id": "t7vqqYlfc3uC",
        "outputId": "131b0813-cc5e-4fd0-c96e-b575c44a76f4"
      },
      "outputs": [
        {
          "name": "stdout",
          "output_type": "stream",
          "text": [
            "[[10 15 18  2]\n",
            " [10 20 15 19]\n",
            " [ 5 11 11  7]\n",
            " [ 7  3 10 11]]\n",
            "Soma das Linhas: [45 64 34 31]\n",
            "Soma das Linhas: [32 49 54 39]\n"
          ]
        }
      ],
      "source": [
        "import numpy as np\n",
        "\n",
        "matriz = np.random.randint(1, 21, (4, 4))\n",
        "print (matriz)\n",
        "\n",
        "print(f\"Soma das Linhas: {np.sum(matriz, axis=1)}\")\n",
        "print(f\"Soma das Colunas: {np.sum(matriz, axis=0)}\")"
      ]
    },
    {
      "cell_type": "markdown",
      "metadata": {
        "id": "_7ELGR0tc-Zl"
      },
      "source": [
        "**Exercício 4: Filtragem de Valores**\n",
        "\n",
        "Crie um array de 30 números inteiros aleatórios entre 0 e 50. Encontre e exiba todos os valores que são maiores que 25."
      ]
    },
    {
      "cell_type": "code",
      "execution_count": 1,
      "metadata": {
        "id": "GKMCRZQrdB9P"
      },
      "outputs": [
        {
          "name": "stdout",
          "output_type": "stream",
          "text": [
            "[29 34 44 37 42 40 48 35 48 40 32 40 48 31 46 29 32]\n"
          ]
        }
      ],
      "source": [
        "import numpy as np\n",
        "\n",
        "array = np.random.randint(0, 51, 30)\n",
        "array\n",
        "\n",
        "print(array[array > 25])"
      ]
    },
    {
      "cell_type": "markdown",
      "metadata": {
        "id": "WfgLU2IrdKQ6"
      },
      "source": [
        "**Exercício 5: Criação e Manipulação de Arrays Multidimensionais**\n",
        "\n",
        "Crie uma matriz 3x3x3 de números inteiros aleatórios entre 1 e 10. Calcule a soma total dos elementos e a soma cumulativa."
      ]
    },
    {
      "cell_type": "code",
      "execution_count": 4,
      "metadata": {
        "id": "tvws8aE_dTBv"
      },
      "outputs": [
        {
          "name": "stderr",
          "output_type": "stream",
          "text": [
            "<>:3: SyntaxWarning: 'int' object is not callable; perhaps you missed a comma?\n",
            "<>:3: SyntaxWarning: 'int' object is not callable; perhaps you missed a comma?\n",
            "/tmp/ipykernel_7247/3510194541.py:3: SyntaxWarning: 'int' object is not callable; perhaps you missed a comma?\n",
            "  matriz = np.random.randint(1,11 (3,3,3,))\n"
          ]
        },
        {
          "ename": "TypeError",
          "evalue": "'int' object is not callable",
          "output_type": "error",
          "traceback": [
            "\u001b[0;31m---------------------------------------------------------------------------\u001b[0m",
            "\u001b[0;31mTypeError\u001b[0m                                 Traceback (most recent call last)",
            "\u001b[0;32m/tmp/ipykernel_7247/3510194541.py\u001b[0m in \u001b[0;36m<module>\u001b[0;34m\u001b[0m\n\u001b[1;32m      1\u001b[0m \u001b[0;32mimport\u001b[0m \u001b[0mnumpy\u001b[0m \u001b[0;32mas\u001b[0m \u001b[0mnp\u001b[0m\u001b[0;34m\u001b[0m\u001b[0;34m\u001b[0m\u001b[0m\n\u001b[1;32m      2\u001b[0m \u001b[0;34m\u001b[0m\u001b[0m\n\u001b[0;32m----> 3\u001b[0;31m \u001b[0mmatriz\u001b[0m \u001b[0;34m=\u001b[0m \u001b[0mnp\u001b[0m\u001b[0;34m.\u001b[0m\u001b[0mrandom\u001b[0m\u001b[0;34m.\u001b[0m\u001b[0mrandint\u001b[0m\u001b[0;34m(\u001b[0m\u001b[0;36m1\u001b[0m\u001b[0;34m,\u001b[0m\u001b[0;36m11\u001b[0m \u001b[0;34m(\u001b[0m\u001b[0;36m3\u001b[0m\u001b[0;34m,\u001b[0m\u001b[0;36m3\u001b[0m\u001b[0;34m,\u001b[0m\u001b[0;36m3\u001b[0m\u001b[0;34m,\u001b[0m\u001b[0;34m)\u001b[0m\u001b[0;34m)\u001b[0m\u001b[0;34m\u001b[0m\u001b[0;34m\u001b[0m\u001b[0m\n\u001b[0m\u001b[1;32m      4\u001b[0m \u001b[0;34m\u001b[0m\u001b[0m\n\u001b[1;32m      5\u001b[0m \u001b[0mprint\u001b[0m\u001b[0;34m(\u001b[0m\u001b[0mmatriz\u001b[0m\u001b[0;34m)\u001b[0m\u001b[0;34m\u001b[0m\u001b[0;34m\u001b[0m\u001b[0m\n",
            "\u001b[0;31mTypeError\u001b[0m: 'int' object is not callable"
          ]
        }
      ],
      "source": [
        "import numpy as np \n",
        "\n",
        "matriz = np.random.randint(1,11 (3,3,3,))\n",
        "\n",
        "print(matriz)\n",
        "print(matriz.sum())\n",
        "print(matriz.cumsum())"
      ]
    }
  ],
  "metadata": {
    "colab": {
      "provenance": []
    },
    "kernelspec": {
      "display_name": "Python 3",
      "name": "python3"
    },
    "language_info": {
      "codemirror_mode": {
        "name": "ipython",
        "version": 3
      },
      "file_extension": ".py",
      "mimetype": "text/x-python",
      "name": "python",
      "nbconvert_exporter": "python",
      "pygments_lexer": "ipython3",
      "version": "3.10.12"
    }
  },
  "nbformat": 4,
  "nbformat_minor": 0
}
